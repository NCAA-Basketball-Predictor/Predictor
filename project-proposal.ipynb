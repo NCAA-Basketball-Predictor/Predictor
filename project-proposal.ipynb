{
 "cells": [
  {
   "cell_type": "markdown",
   "metadata": {},
   "source": [
    "# Final Project Proposal\n",
    "## By: Brandon Clark and Benjamin Comer"
   ]
  },
  {
   "cell_type": "markdown",
   "metadata": {},
   "source": [
    "## 1. Names of Team Members and Name of Project\n",
    "* **Team Members:**\n",
    "    * Brandon Clark\n",
    "    * Benjamin Comer\n",
    "* **Name of Project:**\n",
    "    * The project that we will be working on is titled NCAA Basketball Team Winning Percentage Predictor. As demonstrated in the name of the project, we will be taking statistics from NCAA basketball teams and attempt to predict the correct winning percentage of that team."
   ]
  },
  {
   "cell_type": "markdown",
   "metadata": {},
   "source": [
    "\n",
    "## 2. Dataset Description\n",
    "1. Source, Format, Contents\n",
    "\n",
    "URL: http://stats.ncaa.org/rankings/change_sport_year_div \n",
    "\n",
    "For our project we will be using the NCAA statistics section of its website. In particular, we will be focusing on the Divison I basketball team statistics for our project. Within this section, we are given statistics such as Points per game, Rebound Margin, Steals per game, Field-goal percentage, and win-lost percentage to name a few. The format that the data is in will be in is a csv format which can be dowloaded straight from the website. \n",
    "\n",
    "2. Description of Attributes and Class Information\n",
    "\n",
    "**Key:**\n",
    "- PPG = Points Per game\n",
    "- PM = Points Made\n",
    "- PA = Points Attempted\n",
    "- FGM = Field Goals Made\n",
    "- 3FG = 3 Point Field Goals\n",
    "\n",
    "\n",
    "**Formulas:** \n",
    "\n",
    "$Scoring Margin = \\frac{PPG}{Opponents PPG}$\n",
    "\n",
    "$Effective Field Goal Percentage= \\frac{3PM*1.5 + 2PM}{3PA + 2PA}$\n",
    "\n",
    "$2 Pointers Made = FGM - 3FG$\n",
    "    \n",
    "**Offensive Classifiers:**\n",
    "\n",
    "- Scoring Margin\n",
    "\n",
    "- effective field goal percentage\n",
    "    \n",
    "**Defensive Classifers:**\n",
    "\n",
    "- Steals + Blocks\n",
    "\n",
    "- Rebound Margin\n"
   ]
  },
  {
   "cell_type": "markdown",
   "metadata": {},
   "source": [
    "## 3. Implementation & Technical Merit\n",
    "**Anticipated challenges:** We expect that the fitting of the data into our attributes is going to be a bit tricky, in that using effective field goal percentage and scoring margin are all going to be compiled stats using multiple sources. We also anticipate a good bit of trouble in the discretization of data, and are using plenty of normalization tactics to achieve this. For our scoring margin we're considering using a normal distributive formula to get normalized data.\n",
    "\n",
    "**Paring attributes:** We don't have a large number of attributes, since we are combining a ton of different statistics to get what we need."
   ]
  },
  {
   "cell_type": "markdown",
   "metadata": {},
   "source": [
    "## 4. Potential Impact of Results\n",
    "** Why are these Results Useful:** These results are useful for those who like to bet on NCAA basketball games because it offers them a tool to predict who will win a game.\n",
    "\n",
    "**Stakeholders:** Any betting site or large-scale bookie who could use additional information on what teams will do how well. Obviously this is an amateur project but given enough refinement a model like this can and has been the backbone of gambling odds setters, and people will pay for a better version."
   ]
  }
 ],
 "metadata": {
  "kernelspec": {
   "display_name": "Python 3",
   "language": "python",
   "name": "python3"
  },
  "language_info": {
   "codemirror_mode": {
    "name": "ipython",
    "version": 3
   },
   "file_extension": ".py",
   "mimetype": "text/x-python",
   "name": "python",
   "nbconvert_exporter": "python",
   "pygments_lexer": "ipython3",
   "version": "3.8.5"
  }
 },
 "nbformat": 4,
 "nbformat_minor": 4
}
