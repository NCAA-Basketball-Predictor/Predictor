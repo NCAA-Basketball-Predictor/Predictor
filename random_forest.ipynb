{
 "cells": [
  {
   "cell_type": "markdown",
   "metadata": {},
   "source": [
    "## Random Forest Classification\n",
    "Let's get into Random Forest Classification..."
   ]
  },
  {
   "cell_type": "code",
   "execution_count": 13,
   "metadata": {},
   "outputs": [
    {
     "name": "stdout",
     "output_type": "stream",
     "text": [
      "Removing!\n",
      "Removing!\n",
      "Removing!\n",
      "Removing!\n",
      "Removing!\n",
      "Removing!\n",
      "Removing!\n",
      "Removing!\n",
      "Removing!\n",
      "Removing!\n",
      "Removing!\n",
      "Removing!\n",
      "Removing!\n",
      "Removing!\n",
      "Removing!\n",
      "Removing!\n",
      "Removing!\n",
      "Removing!\n",
      "[[67, 125], [55, 123], [73, 130], [72, 124], [73, 127], [72, 125], [70, 122], [61, 129], [65, 115], [79, 133], [72, 128], [45, 136], [71, 129], [71, 124], [62, 114], [59, 123], [43, 116], [65, 118], [51, 126], [43, 121], [65, 133], [54, 128], [63, 126], [64, 130], [66, 123], [57, 129], [66, 131], [74, 132], [79, 135], [69, 122], [49, 126], [61, 126], [59, 120], [67, 119], [61, 127], [72, 127], [57, 126], [73, 125], [73, 136], [76, 133], [70, 125], [74, 121], [74, 122], [68, 124], [70, 126], [49, 128], [51, 121], [53, 124], [68, 122], [70, 113]]\n"
     ]
    }
   ],
   "source": [
    "# some useful mysklearn package import statements and reloads\n",
    "import importlib\n",
    "\n",
    "import mysklearn.myutils\n",
    "importlib.reload(mysklearn.myutils)\n",
    "import mysklearn.myutils as myutils\n",
    "\n",
    "import mysklearn.myevaluation\n",
    "importlib.reload(mysklearn.myevaluation)\n",
    "import mysklearn.myevaluation as myevaluation\n",
    "\n",
    "import mysklearn.myclassifiers\n",
    "importlib.reload(mysklearn.myclassifiers)\n",
    "from mysklearn.myclassifiers import MyRandomForestClassifier\n",
    "\n",
    "import copy\n",
    "import random\n",
    "\n",
    "random.seed(58)\n",
    "header, data = myutils.load_from_file(\"input_data/NCAA_Statistics_24444.csv\")\n",
    "class_col = myutils.get_column(data, header, \"Win Percentage\")\n",
    "data = myutils.drop_column(data, header, \"Win Percentage\")\n",
    "data = myutils.drop_column(data, header, \"Scoring Margin\")\n",
    "atts = header[1:-1]\n",
    "\n",
    "my_rf = MyRandomForestClassifier()\n",
    "my_rf.fit(data, class_col, min_atts=2)\n",
    "print(my_rf.validations)"
   ]
  },
  {
   "cell_type": "code",
   "execution_count": null,
   "metadata": {},
   "outputs": [],
   "source": []
  }
 ],
 "metadata": {
  "kernelspec": {
   "display_name": "Python 3",
   "language": "python",
   "name": "python3"
  },
  "language_info": {
   "codemirror_mode": {
    "name": "ipython",
    "version": 3
   },
   "file_extension": ".py",
   "mimetype": "text/x-python",
   "name": "python",
   "nbconvert_exporter": "python",
   "pygments_lexer": "ipython3",
   "version": "3.8.5"
  }
 },
 "nbformat": 4,
 "nbformat_minor": 4
}
